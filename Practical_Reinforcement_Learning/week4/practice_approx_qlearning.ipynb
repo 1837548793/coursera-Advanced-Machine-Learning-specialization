{
 "cells": [
  {
   "cell_type": "markdown",
   "metadata": {},
   "source": [
    "# Approximate q-learning\n",
    "\n",
    "In this notebook you will teach a __tensorflow__ neural network to do Q-learning."
   ]
  },
  {
   "cell_type": "markdown",
   "metadata": {},
   "source": [
    "__Frameworks__ - we'll accept this homework in any deep learning framework. This particular notebook was designed for tensorflow, but you will find it easy to adapt it to almost any python-based deep learning framework."
   ]
  },
  {
   "cell_type": "code",
   "execution_count": 1,
   "metadata": {},
   "outputs": [
    {
     "name": "stdout",
     "output_type": "stream",
     "text": [
      "bash: ../xvfb: No such file or directory\n",
      "env: DISPLAY=:1\n"
     ]
    }
   ],
   "source": [
    "#XVFB will be launched if you run on a server\n",
    "import os\n",
    "if os.environ.get(\"DISPLAY\") is not str or len(os.environ.get(\"DISPLAY\"))==0:\n",
    "    !bash ../xvfb start\n",
    "    %env DISPLAY=:1"
   ]
  },
  {
   "cell_type": "code",
   "execution_count": 2,
   "metadata": {},
   "outputs": [],
   "source": [
    "import gym\n",
    "import numpy as np\n",
    "import pandas as pd\n",
    "import matplotlib.pyplot as plt\n",
    "%matplotlib inline"
   ]
  },
  {
   "cell_type": "code",
   "execution_count": 3,
   "metadata": {
    "scrolled": false
   },
   "outputs": [
    {
     "data": {
      "text/plain": [
       "<matplotlib.image.AxesImage at 0x1248712b0>"
      ]
     },
     "execution_count": 3,
     "metadata": {},
     "output_type": "execute_result"
    },
    {
     "data": {
      "image/png": "[encoded data removed]",
      "text/plain": [
       "<Figure size 432x288 with 1 Axes>"
      ]
     },
     "metadata": {},
     "output_type": "display_data"
    }
   ],
   "source": [
    "env = gym.make(\"CartPole-v0\").env\n",
    "env.reset()\n",
    "n_actions = env.action_space.n\n",
    "state_dim = env.observation_space.shape\n",
    "\n",
    "plt.imshow(env.render(\"rgb_array\"))"
   ]
  },
  {
   "cell_type": "markdown",
   "metadata": {},
   "source": [
    "# Approximate (deep) Q-learning: building the network\n",
    "\n",
    "To train a neural network policy one must have a neural network policy. Let's build it.\n",
    "\n",
    "\n",
    "Since we're working with a pre-extracted features (cart positions, angles and velocities), we don't need a complicated network yet. In fact, let's build something like this for starters:\n",
    "\n",
    "![img](https://s14.postimg.org/uzay2q5rl/qlearning_scheme.png)\n",
    "\n",
    "For your first run, please only use linear layers (L.Dense) and activations. Stuff like batch normalization or dropout may ruin everything if used haphazardly. \n",
    "\n",
    "Also please avoid using nonlinearities like sigmoid & tanh: agent's observations are not normalized so sigmoids may become saturated from init.\n",
    "\n",
    "Ideally you should start small with maybe 1-2 hidden layers with < 200 neurons and then increase network size if agent doesn't beat the target score."
   ]
  },
  {
   "cell_type": "code",
   "execution_count": 4,
   "metadata": {},
   "outputs": [
    {
     "name": "stderr",
     "output_type": "stream",
     "text": [
      "/usr/local/lib/python3.6/site-packages/h5py/__init__.py:36: FutureWarning: Conversion of the second argument of issubdtype from `float` to `np.floating` is deprecated. In future, it will be treated as `np.float64 == np.dtype(float).type`.\n",
      "  from ._conv import register_converters as _register_converters\n",
      "Using TensorFlow backend.\n"
     ]
    }
   ],
   "source": [
    "import tensorflow as tf\n",
    "import keras\n",
    "import keras.layers as L\n",
    "tf.reset_default_graph()\n",
    "sess = tf.InteractiveSession()\n",
    "keras.backend.set_session(sess)"
   ]
  },
  {
   "cell_type": "code",
   "execution_count": 6,
   "metadata": {},
   "outputs": [],
   "source": [
    "network = keras.models.Sequential()\n",
    "network.add(L.InputLayer(state_dim))\n",
    "\n",
    "# let's create a network for approximate q-learning following guidelines above\n",
    "network.add(L.Dense(128, activation='relu'))\n",
    "network.add(L.Dense(128, activation='relu'))\n",
    "network.add(L.Dense(n_actions,activation = 'linear'))"
   ]
  },
  {
   "cell_type": "code",
   "execution_count": 9,
   "metadata": {},
   "outputs": [],
   "source": [
    "import random\n",
    "def get_action(state, epsilon=0):\n",
    "    \"\"\"\n",
    "    sample actions with epsilon-greedy policy\n",
    "    recap: with p = epsilon pick random action, else pick action with highest Q(s,a)\n",
    "    \"\"\"\n",
    "    \n",
    "    q_values = network.predict(state[None])[0]\n",
    "    \n",
    "    best_action = np.argmax(q_values)\n",
    "    if random.random() < epsilon:\n",
    "        return env.action_space.sample()\n",
    "    return  best_action\n"
   ]
  },
  {
   "cell_type": "code",
   "execution_count": 10,
   "metadata": {},
   "outputs": [
    {
     "name": "stdout",
     "output_type": "stream",
     "text": [
      "e=0.0 tests passed\n",
      "e=0.1 tests passed\n",
      "e=0.5 tests passed\n",
      "e=1.0 tests passed\n"
     ]
    }
   ],
   "source": [
    "assert network.output_shape == (None, n_actions), \"please make sure your model maps state s -> [Q(s,a0), ..., Q(s, a_last)]\"\n",
    "assert network.layers[-1].activation == keras.activations.linear, \"please make sure you predict q-values without nonlinearity\"\n",
    "\n",
    "# test epsilon-greedy exploration\n",
    "s = env.reset()\n",
    "assert np.shape(get_action(s)) == (), \"please return just one action (integer)\"\n",
    "for eps in [0., 0.1, 0.5, 1.0]:\n",
    "    state_frequencies = np.bincount([get_action(s, epsilon=eps) for i in range(10000)], minlength=n_actions)\n",
    "    best_action = state_frequencies.argmax()\n",
    "    assert abs(state_frequencies[best_action] - 10000 * (1 - eps + eps / n_actions)) < 200\n",
    "    for other_action in range(n_actions):\n",
    "        if other_action != best_action:\n",
    "            assert abs(state_frequencies[other_action] - 10000 * (eps / n_actions)) < 200\n",
    "    print('e=%.1f tests passed'%eps)"
   ]
  },
  {
   "cell_type": "markdown",
   "metadata": {},
   "source": [
    "### Q-learning via gradient descent\n",
    "\n",
    "We shall now train our agent's Q-function by minimizing the TD loss:\n",
    "$$ L = { 1 \\over N} \\sum_i (Q_{\\theta}(s,a) - [r(s,a) + \\gamma \\cdot max_{a'} Q_{-}(s', a')]) ^2 $$\n",
    "\n",
    "\n",
    "Where\n",
    "* $s, a, r, s'$ are current state, action, reward and next state respectively\n",
    "* $\\gamma$ is a discount factor defined two cells above.\n",
    "\n",
    "The tricky part is with  $Q_{-}(s',a')$. From an engineering standpoint, it's the same as $Q_{\\theta}$ - the output of your neural network policy. However, when doing gradient descent, __we won't propagate gradients through it__ to make training more stable (see lectures).\n",
    "\n",
    "To do so, we shall use `tf.stop_gradient` function which basically says \"consider this thing constant when doingbackprop\"."
   ]
  },
  {
   "cell_type": "code",
   "execution_count": 11,
   "metadata": {},
   "outputs": [],
   "source": [
    "# Create placeholders for the <s, a, r, s'> tuple and a special indicator for game end (is_done = True)\n",
    "states_ph = keras.backend.placeholder(dtype='float32', shape=(None,) + state_dim)\n",
    "actions_ph = keras.backend.placeholder(dtype='int32', shape=[None])\n",
    "rewards_ph = keras.backend.placeholder(dtype='float32', shape=[None])\n",
    "next_states_ph = keras.backend.placeholder(dtype='float32', shape=(None,) + state_dim)\n",
    "is_done_ph = keras.backend.placeholder(dtype='bool', shape=[None])"
   ]
  },
  {
   "cell_type": "code",
   "execution_count": 12,
   "metadata": {},
   "outputs": [],
   "source": [
    "#get q-values for all actions in current states\n",
    "predicted_qvalues = network(states_ph)\n",
    "\n",
    "#select q-values for chosen actions\n",
    "predicted_qvalues_for_actions = tf.reduce_sum(predicted_qvalues * tf.one_hot(actions_ph, n_actions), axis=1)"
   ]
  },
  {
   "cell_type": "code",
   "execution_count": 13,
   "metadata": {},
   "outputs": [],
   "source": [
    "gamma = 0.99\n",
    "\n",
    "# compute q-values for all actions in next states\n",
    "predicted_next_qvalues = network(next_states_ph)\n",
    "\n",
    "# compute V*(next_states) using predicted next q-values\n",
    "next_state_values = tf.reduce_sum(predicted_next_qvalues * tf.one_hot(actions_ph, n_actions), axis=1) / n_actions\n",
    "\n",
    "# compute \"target q-values\" for loss - it's what's inside square parentheses in the above formula.\n",
    "target_qvalues_for_actions = rewards_ph + gamma * next_state_values\n",
    "\n",
    "# at the last state we shall use simplified formula: Q(s,a) = r(s,a) since s' doesn't exist\n",
    "target_qvalues_for_actions = tf.where(is_done_ph, rewards_ph, target_qvalues_for_actions)"
   ]
  },
  {
   "cell_type": "code",
   "execution_count": 14,
   "metadata": {},
   "outputs": [],
   "source": [
    "#mean squared error loss to minimize\n",
    "loss = (predicted_qvalues_for_actions - tf.stop_gradient(target_qvalues_for_actions)) ** 2\n",
    "loss = tf.reduce_mean(loss)\n",
    "\n",
    "# training function that resembles agent.update(state, action, reward, next_state) from tabular agent\n",
    "train_step = tf.train.AdamOptimizer(1e-4).minimize(loss)"
   ]
  },
  {
   "cell_type": "code",
   "execution_count": 15,
   "metadata": {},
   "outputs": [],
   "source": [
    "assert tf.gradients(loss, [predicted_qvalues_for_actions])[0] is not None, \"make sure you update q-values for chosen actions and not just all actions\"\n",
    "assert tf.gradients(loss, [predicted_next_qvalues])[0] is None, \"make sure you don't propagate gradient w.r.t. Q_(s',a')\"\n",
    "assert predicted_next_qvalues.shape.ndims == 2, \"make sure you predicted q-values for all actions in next state\"\n",
    "assert next_state_values.shape.ndims == 1, \"make sure you computed V(s') as maximum over just the actions axis and not all axes\"\n",
    "assert target_qvalues_for_actions.shape.ndims == 1, \"there's something wrong with target q-values, they must be a vector\""
   ]
  },
  {
   "cell_type": "markdown",
   "metadata": {},
   "source": [
    "### Playing the game"
   ]
  },
  {
   "cell_type": "code",
   "execution_count": 26,
   "metadata": {},
   "outputs": [],
   "source": [
    "def generate_session(t_max=1000, epsilon=0, train=False):\n",
    "    \"\"\"play env with approximate q-learning agent and train it at the same time\"\"\"\n",
    "    total_reward = 0\n",
    "    s = env.reset()\n",
    "    \n",
    "    for t in range(t_max):\n",
    "        a = get_action(s, epsilon=epsilon)       \n",
    "        next_s, r, done, _ = env.step(a)\n",
    "        \n",
    "        if train:\n",
    "            sess.run(train_step,{\n",
    "                states_ph: [s], actions_ph: [a], rewards_ph: [r], \n",
    "                next_states_ph: [next_s], is_done_ph: [done]\n",
    "            })\n",
    "\n",
    "        total_reward += r\n",
    "        s = next_s\n",
    "        if done: break\n",
    "            \n",
    "    return total_reward"
   ]
  },
  {
   "cell_type": "code",
   "execution_count": 17,
   "metadata": {},
   "outputs": [],
   "source": [
    "epsilon = 0.5"
   ]
  },
  {
   "cell_type": "code",
   "execution_count": 18,
   "metadata": {
    "scrolled": true
   },
   "outputs": [
    {
     "name": "stdout",
     "output_type": "stream",
     "text": [
      "epoch #0\tmean reward = 14.630\tepsilon = 0.500\n",
      "epoch #1\tmean reward = 13.390\tepsilon = 0.495\n",
      "epoch #2\tmean reward = 23.890\tepsilon = 0.490\n",
      "epoch #3\tmean reward = 35.250\tepsilon = 0.485\n",
      "epoch #4\tmean reward = 69.810\tepsilon = 0.480\n",
      "epoch #5\tmean reward = 73.330\tepsilon = 0.475\n",
      "epoch #6\tmean reward = 64.990\tepsilon = 0.471\n",
      "epoch #7\tmean reward = 66.490\tepsilon = 0.466\n",
      "epoch #8\tmean reward = 61.150\tepsilon = 0.461\n",
      "epoch #9\tmean reward = 85.360\tepsilon = 0.457\n",
      "epoch #10\tmean reward = 96.520\tepsilon = 0.452\n",
      "epoch #11\tmean reward = 124.680\tepsilon = 0.448\n",
      "epoch #12\tmean reward = 96.590\tepsilon = 0.443\n",
      "epoch #13\tmean reward = 119.540\tepsilon = 0.439\n",
      "epoch #14\tmean reward = 116.870\tepsilon = 0.434\n",
      "epoch #15\tmean reward = 97.000\tepsilon = 0.430\n",
      "epoch #16\tmean reward = 104.440\tepsilon = 0.426\n",
      "epoch #17\tmean reward = 110.950\tepsilon = 0.421\n",
      "epoch #18\tmean reward = 125.360\tepsilon = 0.417\n",
      "epoch #19\tmean reward = 132.850\tepsilon = 0.413\n",
      "epoch #20\tmean reward = 134.580\tepsilon = 0.409\n",
      "epoch #21\tmean reward = 141.390\tepsilon = 0.405\n",
      "epoch #22\tmean reward = 98.510\tepsilon = 0.401\n",
      "epoch #23\tmean reward = 137.660\tepsilon = 0.397\n",
      "epoch #24\tmean reward = 175.090\tepsilon = 0.393\n",
      "epoch #25\tmean reward = 138.340\tepsilon = 0.389\n",
      "epoch #26\tmean reward = 123.090\tepsilon = 0.385\n",
      "epoch #27\tmean reward = 143.040\tepsilon = 0.381\n",
      "epoch #28\tmean reward = 131.670\tepsilon = 0.377\n",
      "epoch #29\tmean reward = 174.270\tepsilon = 0.374\n",
      "epoch #30\tmean reward = 107.730\tepsilon = 0.370\n",
      "epoch #31\tmean reward = 180.100\tepsilon = 0.366\n",
      "epoch #32\tmean reward = 130.530\tepsilon = 0.362\n",
      "epoch #33\tmean reward = 160.750\tepsilon = 0.359\n",
      "epoch #34\tmean reward = 175.880\tepsilon = 0.355\n",
      "epoch #35\tmean reward = 116.590\tepsilon = 0.352\n",
      "epoch #36\tmean reward = 145.940\tepsilon = 0.348\n",
      "epoch #37\tmean reward = 136.840\tepsilon = 0.345\n",
      "epoch #38\tmean reward = 175.980\tepsilon = 0.341\n",
      "epoch #39\tmean reward = 132.460\tepsilon = 0.338\n",
      "epoch #40\tmean reward = 139.380\tepsilon = 0.334\n",
      "epoch #41\tmean reward = 147.720\tepsilon = 0.331\n",
      "epoch #42\tmean reward = 165.970\tepsilon = 0.328\n",
      "epoch #43\tmean reward = 133.130\tepsilon = 0.325\n",
      "epoch #44\tmean reward = 136.860\tepsilon = 0.321\n",
      "epoch #45\tmean reward = 133.920\tepsilon = 0.318\n",
      "epoch #46\tmean reward = 123.690\tepsilon = 0.315\n",
      "epoch #47\tmean reward = 155.680\tepsilon = 0.312\n",
      "epoch #48\tmean reward = 144.610\tepsilon = 0.309\n",
      "epoch #49\tmean reward = 149.030\tepsilon = 0.306\n",
      "epoch #50\tmean reward = 121.630\tepsilon = 0.303\n",
      "epoch #51\tmean reward = 161.900\tepsilon = 0.299\n",
      "epoch #52\tmean reward = 180.090\tepsilon = 0.296\n",
      "epoch #53\tmean reward = 134.850\tepsilon = 0.294\n",
      "epoch #54\tmean reward = 155.470\tepsilon = 0.291\n",
      "epoch #55\tmean reward = 188.650\tepsilon = 0.288\n",
      "epoch #56\tmean reward = 188.560\tepsilon = 0.285\n",
      "epoch #57\tmean reward = 139.320\tepsilon = 0.282\n",
      "epoch #58\tmean reward = 134.330\tepsilon = 0.279\n",
      "epoch #59\tmean reward = 174.680\tepsilon = 0.276\n",
      "epoch #60\tmean reward = 154.710\tepsilon = 0.274\n",
      "epoch #61\tmean reward = 157.680\tepsilon = 0.271\n",
      "epoch #62\tmean reward = 153.150\tepsilon = 0.268\n",
      "epoch #63\tmean reward = 172.860\tepsilon = 0.265\n",
      "epoch #64\tmean reward = 137.750\tepsilon = 0.263\n",
      "epoch #65\tmean reward = 160.090\tepsilon = 0.260\n",
      "epoch #66\tmean reward = 175.630\tepsilon = 0.258\n",
      "epoch #67\tmean reward = 191.190\tepsilon = 0.255\n",
      "epoch #68\tmean reward = 289.370\tepsilon = 0.252\n",
      "epoch #69\tmean reward = 215.460\tepsilon = 0.250\n",
      "epoch #70\tmean reward = 224.490\tepsilon = 0.247\n",
      "epoch #71\tmean reward = 169.960\tepsilon = 0.245\n",
      "epoch #72\tmean reward = 204.310\tepsilon = 0.242\n",
      "epoch #73\tmean reward = 220.630\tepsilon = 0.240\n",
      "epoch #74\tmean reward = 214.170\tepsilon = 0.238\n",
      "epoch #75\tmean reward = 160.430\tepsilon = 0.235\n",
      "epoch #76\tmean reward = 170.310\tepsilon = 0.233\n",
      "epoch #77\tmean reward = 167.920\tepsilon = 0.231\n",
      "epoch #78\tmean reward = 138.590\tepsilon = 0.228\n",
      "epoch #79\tmean reward = 135.600\tepsilon = 0.226\n",
      "epoch #80\tmean reward = 145.450\tepsilon = 0.224\n",
      "epoch #81\tmean reward = 176.710\tepsilon = 0.222\n",
      "epoch #82\tmean reward = 177.040\tepsilon = 0.219\n",
      "epoch #83\tmean reward = 161.040\tepsilon = 0.217\n",
      "epoch #84\tmean reward = 152.500\tepsilon = 0.215\n",
      "epoch #85\tmean reward = 178.750\tepsilon = 0.213\n",
      "epoch #86\tmean reward = 167.140\tepsilon = 0.211\n",
      "epoch #87\tmean reward = 180.870\tepsilon = 0.209\n",
      "epoch #88\tmean reward = 230.950\tepsilon = 0.206\n",
      "epoch #89\tmean reward = 234.880\tepsilon = 0.204\n",
      "epoch #90\tmean reward = 213.920\tepsilon = 0.202\n",
      "epoch #91\tmean reward = 165.750\tepsilon = 0.200\n",
      "epoch #92\tmean reward = 146.520\tepsilon = 0.198\n",
      "epoch #93\tmean reward = 200.410\tepsilon = 0.196\n",
      "epoch #94\tmean reward = 219.250\tepsilon = 0.194\n",
      "epoch #95\tmean reward = 198.690\tepsilon = 0.192\n",
      "epoch #96\tmean reward = 189.030\tepsilon = 0.191\n",
      "epoch #97\tmean reward = 152.970\tepsilon = 0.189\n",
      "epoch #98\tmean reward = 182.680\tepsilon = 0.187\n",
      "epoch #99\tmean reward = 128.110\tepsilon = 0.185\n",
      "epoch #100\tmean reward = 192.050\tepsilon = 0.183\n",
      "epoch #101\tmean reward = 180.450\tepsilon = 0.181\n",
      "epoch #102\tmean reward = 212.480\tepsilon = 0.179\n",
      "epoch #103\tmean reward = 165.080\tepsilon = 0.178\n",
      "epoch #104\tmean reward = 169.880\tepsilon = 0.176\n",
      "epoch #105\tmean reward = 136.790\tepsilon = 0.174\n",
      "epoch #106\tmean reward = 157.630\tepsilon = 0.172\n",
      "epoch #107\tmean reward = 194.180\tepsilon = 0.171\n",
      "epoch #108\tmean reward = 172.670\tepsilon = 0.169\n",
      "epoch #109\tmean reward = 191.690\tepsilon = 0.167\n",
      "epoch #110\tmean reward = 156.980\tepsilon = 0.166\n",
      "epoch #111\tmean reward = 168.570\tepsilon = 0.164\n",
      "epoch #112\tmean reward = 200.420\tepsilon = 0.162\n",
      "epoch #113\tmean reward = 160.260\tepsilon = 0.161\n",
      "epoch #114\tmean reward = 188.150\tepsilon = 0.159\n",
      "epoch #115\tmean reward = 173.180\tepsilon = 0.157\n",
      "epoch #116\tmean reward = 191.390\tepsilon = 0.156\n",
      "epoch #117\tmean reward = 139.170\tepsilon = 0.154\n",
      "epoch #118\tmean reward = 155.100\tepsilon = 0.153\n",
      "epoch #119\tmean reward = 142.230\tepsilon = 0.151\n",
      "epoch #120\tmean reward = 165.550\tepsilon = 0.150\n",
      "epoch #121\tmean reward = 175.170\tepsilon = 0.148\n",
      "epoch #122\tmean reward = 161.710\tepsilon = 0.147\n",
      "epoch #123\tmean reward = 163.740\tepsilon = 0.145\n",
      "epoch #124\tmean reward = 147.940\tepsilon = 0.144\n",
      "epoch #125\tmean reward = 154.320\tepsilon = 0.142\n",
      "epoch #126\tmean reward = 165.300\tepsilon = 0.141\n",
      "epoch #127\tmean reward = 161.870\tepsilon = 0.140\n",
      "epoch #128\tmean reward = 159.820\tepsilon = 0.138\n",
      "epoch #129\tmean reward = 191.480\tepsilon = 0.137\n",
      "epoch #130\tmean reward = 183.120\tepsilon = 0.135\n",
      "epoch #131\tmean reward = 217.780\tepsilon = 0.134\n",
      "epoch #132\tmean reward = 128.190\tepsilon = 0.133\n",
      "epoch #133\tmean reward = 138.620\tepsilon = 0.131\n",
      "epoch #134\tmean reward = 123.420\tepsilon = 0.130\n",
      "epoch #135\tmean reward = 158.250\tepsilon = 0.129\n",
      "epoch #136\tmean reward = 180.050\tepsilon = 0.127\n",
      "epoch #137\tmean reward = 123.680\tepsilon = 0.126\n",
      "epoch #138\tmean reward = 218.840\tepsilon = 0.125\n",
      "epoch #139\tmean reward = 163.840\tepsilon = 0.124\n",
      "epoch #140\tmean reward = 115.320\tepsilon = 0.122\n",
      "epoch #141\tmean reward = 169.570\tepsilon = 0.121\n",
      "epoch #142\tmean reward = 124.440\tepsilon = 0.120\n",
      "epoch #143\tmean reward = 129.770\tepsilon = 0.119\n",
      "epoch #144\tmean reward = 190.960\tepsilon = 0.118\n",
      "epoch #145\tmean reward = 135.920\tepsilon = 0.116\n",
      "epoch #146\tmean reward = 126.630\tepsilon = 0.115\n",
      "epoch #147\tmean reward = 161.650\tepsilon = 0.114\n",
      "epoch #148\tmean reward = 160.950\tepsilon = 0.113\n",
      "epoch #149\tmean reward = 93.300\tepsilon = 0.112\n",
      "epoch #150\tmean reward = 126.530\tepsilon = 0.111\n",
      "epoch #151\tmean reward = 189.520\tepsilon = 0.110\n",
      "epoch #152\tmean reward = 158.630\tepsilon = 0.109\n",
      "epoch #153\tmean reward = 169.910\tepsilon = 0.107\n",
      "epoch #154\tmean reward = 197.370\tepsilon = 0.106\n",
      "epoch #155\tmean reward = 190.400\tepsilon = 0.105\n",
      "epoch #156\tmean reward = 177.710\tepsilon = 0.104\n",
      "epoch #157\tmean reward = 169.850\tepsilon = 0.103\n",
      "epoch #158\tmean reward = 134.960\tepsilon = 0.102\n",
      "epoch #159\tmean reward = 114.200\tepsilon = 0.101\n",
      "epoch #160\tmean reward = 166.200\tepsilon = 0.100\n",
      "epoch #161\tmean reward = 148.740\tepsilon = 0.099\n",
      "epoch #162\tmean reward = 129.200\tepsilon = 0.098\n",
      "epoch #163\tmean reward = 111.260\tepsilon = 0.097\n",
      "epoch #164\tmean reward = 132.480\tepsilon = 0.096\n",
      "epoch #165\tmean reward = 162.910\tepsilon = 0.095\n",
      "epoch #166\tmean reward = 145.220\tepsilon = 0.094\n",
      "epoch #167\tmean reward = 163.210\tepsilon = 0.093\n",
      "epoch #168\tmean reward = 163.460\tepsilon = 0.092\n",
      "epoch #169\tmean reward = 101.600\tepsilon = 0.091\n"
     ]
    },
    {
     "name": "stdout",
     "output_type": "stream",
     "text": [
      "epoch #170\tmean reward = 139.620\tepsilon = 0.091\n",
      "epoch #171\tmean reward = 148.200\tepsilon = 0.090\n",
      "epoch #172\tmean reward = 169.870\tepsilon = 0.089\n",
      "epoch #173\tmean reward = 177.510\tepsilon = 0.088\n",
      "epoch #174\tmean reward = 187.170\tepsilon = 0.087\n",
      "epoch #175\tmean reward = 145.240\tepsilon = 0.086\n",
      "epoch #176\tmean reward = 203.440\tepsilon = 0.085\n",
      "epoch #177\tmean reward = 191.590\tepsilon = 0.084\n",
      "epoch #178\tmean reward = 175.820\tepsilon = 0.084\n",
      "epoch #179\tmean reward = 141.380\tepsilon = 0.083\n",
      "epoch #180\tmean reward = 134.540\tepsilon = 0.082\n",
      "epoch #181\tmean reward = 127.520\tepsilon = 0.081\n",
      "epoch #182\tmean reward = 154.640\tepsilon = 0.080\n",
      "epoch #183\tmean reward = 179.180\tepsilon = 0.079\n",
      "epoch #184\tmean reward = 145.510\tepsilon = 0.079\n",
      "epoch #185\tmean reward = 153.100\tepsilon = 0.078\n",
      "epoch #186\tmean reward = 156.050\tepsilon = 0.077\n",
      "epoch #187\tmean reward = 112.270\tepsilon = 0.076\n",
      "epoch #188\tmean reward = 106.930\tepsilon = 0.076\n",
      "epoch #189\tmean reward = 103.190\tepsilon = 0.075\n",
      "epoch #190\tmean reward = 122.710\tepsilon = 0.074\n",
      "epoch #191\tmean reward = 153.070\tepsilon = 0.073\n",
      "epoch #192\tmean reward = 153.470\tepsilon = 0.073\n",
      "epoch #193\tmean reward = 111.590\tepsilon = 0.072\n",
      "epoch #194\tmean reward = 124.600\tepsilon = 0.071\n",
      "epoch #195\tmean reward = 121.560\tepsilon = 0.070\n",
      "epoch #196\tmean reward = 194.180\tepsilon = 0.070\n",
      "epoch #197\tmean reward = 117.430\tepsilon = 0.069\n",
      "epoch #198\tmean reward = 144.740\tepsilon = 0.068\n",
      "epoch #199\tmean reward = 138.200\tepsilon = 0.068\n",
      "epoch #200\tmean reward = 172.960\tepsilon = 0.067\n",
      "epoch #201\tmean reward = 133.000\tepsilon = 0.066\n",
      "epoch #202\tmean reward = 154.290\tepsilon = 0.066\n",
      "epoch #203\tmean reward = 136.650\tepsilon = 0.065\n",
      "epoch #204\tmean reward = 161.480\tepsilon = 0.064\n",
      "epoch #205\tmean reward = 136.610\tepsilon = 0.064\n",
      "epoch #206\tmean reward = 113.740\tepsilon = 0.063\n",
      "epoch #207\tmean reward = 140.170\tepsilon = 0.062\n",
      "epoch #208\tmean reward = 142.490\tepsilon = 0.062\n",
      "epoch #209\tmean reward = 139.480\tepsilon = 0.061\n",
      "epoch #210\tmean reward = 112.260\tepsilon = 0.061\n",
      "epoch #211\tmean reward = 110.410\tepsilon = 0.060\n",
      "epoch #212\tmean reward = 171.030\tepsilon = 0.059\n",
      "epoch #213\tmean reward = 143.900\tepsilon = 0.059\n",
      "epoch #214\tmean reward = 105.230\tepsilon = 0.058\n",
      "epoch #215\tmean reward = 127.920\tepsilon = 0.058\n",
      "epoch #216\tmean reward = 247.390\tepsilon = 0.057\n",
      "epoch #217\tmean reward = 111.730\tepsilon = 0.056\n",
      "epoch #218\tmean reward = 136.260\tepsilon = 0.056\n",
      "epoch #219\tmean reward = 110.810\tepsilon = 0.055\n",
      "epoch #220\tmean reward = 126.450\tepsilon = 0.055\n",
      "epoch #221\tmean reward = 121.980\tepsilon = 0.054\n",
      "epoch #222\tmean reward = 129.840\tepsilon = 0.054\n",
      "epoch #223\tmean reward = 140.470\tepsilon = 0.053\n",
      "epoch #224\tmean reward = 240.140\tepsilon = 0.053\n",
      "epoch #225\tmean reward = 229.620\tepsilon = 0.052\n",
      "epoch #226\tmean reward = 279.720\tepsilon = 0.052\n",
      "epoch #227\tmean reward = 147.100\tepsilon = 0.051\n",
      "epoch #228\tmean reward = 114.710\tepsilon = 0.051\n",
      "epoch #229\tmean reward = 206.750\tepsilon = 0.050\n",
      "epoch #230\tmean reward = 134.810\tepsilon = 0.050\n",
      "epoch #231\tmean reward = 100.970\tepsilon = 0.049\n",
      "epoch #232\tmean reward = 102.180\tepsilon = 0.049\n",
      "epoch #233\tmean reward = 100.670\tepsilon = 0.048\n",
      "epoch #234\tmean reward = 91.730\tepsilon = 0.048\n",
      "epoch #235\tmean reward = 86.460\tepsilon = 0.047\n",
      "epoch #236\tmean reward = 104.990\tepsilon = 0.047\n",
      "epoch #237\tmean reward = 108.950\tepsilon = 0.046\n",
      "epoch #238\tmean reward = 128.540\tepsilon = 0.046\n",
      "epoch #239\tmean reward = 124.860\tepsilon = 0.045\n",
      "epoch #240\tmean reward = 116.720\tepsilon = 0.045\n",
      "epoch #241\tmean reward = 110.810\tepsilon = 0.044\n",
      "epoch #242\tmean reward = 134.910\tepsilon = 0.044\n",
      "epoch #243\tmean reward = 139.330\tepsilon = 0.043\n",
      "epoch #244\tmean reward = 121.760\tepsilon = 0.043\n",
      "epoch #245\tmean reward = 129.860\tepsilon = 0.043\n",
      "epoch #246\tmean reward = 119.720\tepsilon = 0.042\n",
      "epoch #247\tmean reward = 118.220\tepsilon = 0.042\n",
      "epoch #248\tmean reward = 120.100\tepsilon = 0.041\n",
      "epoch #249\tmean reward = 117.560\tepsilon = 0.041\n",
      "epoch #250\tmean reward = 138.670\tepsilon = 0.041\n",
      "epoch #251\tmean reward = 95.830\tepsilon = 0.040\n",
      "epoch #252\tmean reward = 217.080\tepsilon = 0.040\n",
      "epoch #253\tmean reward = 191.970\tepsilon = 0.039\n",
      "epoch #254\tmean reward = 183.040\tepsilon = 0.039\n",
      "epoch #255\tmean reward = 193.560\tepsilon = 0.039\n",
      "epoch #256\tmean reward = 181.270\tepsilon = 0.038\n",
      "epoch #257\tmean reward = 136.220\tepsilon = 0.038\n",
      "epoch #258\tmean reward = 119.380\tepsilon = 0.037\n",
      "epoch #259\tmean reward = 141.100\tepsilon = 0.037\n",
      "epoch #260\tmean reward = 117.140\tepsilon = 0.037\n",
      "epoch #261\tmean reward = 127.520\tepsilon = 0.036\n",
      "epoch #262\tmean reward = 142.300\tepsilon = 0.036\n",
      "epoch #263\tmean reward = 132.590\tepsilon = 0.036\n",
      "epoch #264\tmean reward = 133.610\tepsilon = 0.035\n",
      "epoch #265\tmean reward = 128.270\tepsilon = 0.035\n",
      "epoch #266\tmean reward = 76.110\tepsilon = 0.035\n",
      "epoch #267\tmean reward = 114.880\tepsilon = 0.034\n",
      "epoch #268\tmean reward = 173.380\tepsilon = 0.034\n",
      "epoch #269\tmean reward = 210.980\tepsilon = 0.033\n",
      "epoch #270\tmean reward = 137.920\tepsilon = 0.033\n",
      "epoch #271\tmean reward = 162.520\tepsilon = 0.033\n",
      "epoch #272\tmean reward = 177.880\tepsilon = 0.032\n",
      "epoch #273\tmean reward = 146.520\tepsilon = 0.032\n",
      "epoch #274\tmean reward = 134.430\tepsilon = 0.032\n",
      "epoch #275\tmean reward = 110.330\tepsilon = 0.032\n",
      "epoch #276\tmean reward = 110.080\tepsilon = 0.031\n",
      "epoch #277\tmean reward = 120.820\tepsilon = 0.031\n",
      "epoch #278\tmean reward = 115.330\tepsilon = 0.031\n",
      "epoch #279\tmean reward = 176.490\tepsilon = 0.030\n",
      "epoch #280\tmean reward = 136.750\tepsilon = 0.030\n",
      "epoch #281\tmean reward = 127.270\tepsilon = 0.030\n",
      "epoch #282\tmean reward = 161.840\tepsilon = 0.029\n",
      "epoch #283\tmean reward = 143.710\tepsilon = 0.029\n",
      "epoch #284\tmean reward = 153.010\tepsilon = 0.029\n",
      "epoch #285\tmean reward = 154.430\tepsilon = 0.029\n",
      "epoch #286\tmean reward = 160.000\tepsilon = 0.028\n",
      "epoch #287\tmean reward = 168.240\tepsilon = 0.028\n",
      "epoch #288\tmean reward = 157.980\tepsilon = 0.028\n",
      "epoch #289\tmean reward = 189.230\tepsilon = 0.027\n",
      "epoch #290\tmean reward = 206.150\tepsilon = 0.027\n",
      "epoch #291\tmean reward = 145.260\tepsilon = 0.027\n",
      "epoch #292\tmean reward = 172.440\tepsilon = 0.027\n",
      "epoch #293\tmean reward = 94.000\tepsilon = 0.026\n",
      "epoch #294\tmean reward = 106.360\tepsilon = 0.026\n",
      "epoch #295\tmean reward = 116.230\tepsilon = 0.026\n",
      "epoch #296\tmean reward = 159.310\tepsilon = 0.026\n",
      "epoch #297\tmean reward = 61.750\tepsilon = 0.025\n",
      "epoch #298\tmean reward = 11.410\tepsilon = 0.025\n",
      "epoch #299\tmean reward = 118.280\tepsilon = 0.025\n",
      "epoch #300\tmean reward = 114.980\tepsilon = 0.025\n",
      "epoch #301\tmean reward = 147.170\tepsilon = 0.024\n",
      "epoch #302\tmean reward = 161.580\tepsilon = 0.024\n",
      "epoch #303\tmean reward = 128.480\tepsilon = 0.024\n",
      "epoch #304\tmean reward = 79.220\tepsilon = 0.024\n",
      "epoch #305\tmean reward = 61.940\tepsilon = 0.023\n",
      "epoch #306\tmean reward = 62.200\tepsilon = 0.023\n",
      "epoch #307\tmean reward = 131.170\tepsilon = 0.023\n",
      "epoch #308\tmean reward = 107.270\tepsilon = 0.023\n",
      "epoch #309\tmean reward = 64.350\tepsilon = 0.022\n",
      "epoch #310\tmean reward = 168.560\tepsilon = 0.022\n",
      "epoch #311\tmean reward = 82.950\tepsilon = 0.022\n",
      "epoch #312\tmean reward = 104.590\tepsilon = 0.022\n",
      "epoch #313\tmean reward = 147.560\tepsilon = 0.022\n",
      "epoch #314\tmean reward = 119.570\tepsilon = 0.021\n",
      "epoch #315\tmean reward = 134.270\tepsilon = 0.021\n",
      "epoch #316\tmean reward = 97.620\tepsilon = 0.021\n",
      "epoch #317\tmean reward = 83.960\tepsilon = 0.021\n",
      "epoch #318\tmean reward = 91.310\tepsilon = 0.020\n",
      "epoch #319\tmean reward = 99.830\tepsilon = 0.020\n",
      "epoch #320\tmean reward = 129.240\tepsilon = 0.020\n",
      "epoch #321\tmean reward = 150.970\tepsilon = 0.020\n",
      "epoch #322\tmean reward = 64.020\tepsilon = 0.020\n",
      "epoch #323\tmean reward = 111.160\tepsilon = 0.019\n",
      "epoch #324\tmean reward = 153.680\tepsilon = 0.019\n",
      "epoch #325\tmean reward = 58.320\tepsilon = 0.019\n",
      "epoch #326\tmean reward = 48.960\tepsilon = 0.019\n",
      "epoch #327\tmean reward = 105.010\tepsilon = 0.019\n",
      "epoch #328\tmean reward = 136.040\tepsilon = 0.019\n",
      "epoch #329\tmean reward = 91.660\tepsilon = 0.018\n",
      "epoch #330\tmean reward = 122.140\tepsilon = 0.018\n",
      "epoch #331\tmean reward = 130.020\tepsilon = 0.018\n",
      "epoch #332\tmean reward = 83.230\tepsilon = 0.018\n",
      "epoch #333\tmean reward = 108.090\tepsilon = 0.018\n",
      "epoch #334\tmean reward = 189.540\tepsilon = 0.017\n",
      "epoch #335\tmean reward = 96.740\tepsilon = 0.017\n",
      "epoch #336\tmean reward = 90.140\tepsilon = 0.017\n",
      "epoch #337\tmean reward = 89.190\tepsilon = 0.017\n"
     ]
    },
    {
     "name": "stdout",
     "output_type": "stream",
     "text": [
      "epoch #338\tmean reward = 67.500\tepsilon = 0.017\n",
      "epoch #339\tmean reward = 136.230\tepsilon = 0.017\n",
      "epoch #340\tmean reward = 122.120\tepsilon = 0.016\n",
      "epoch #341\tmean reward = 117.020\tepsilon = 0.016\n",
      "epoch #342\tmean reward = 104.550\tepsilon = 0.016\n",
      "epoch #343\tmean reward = 106.850\tepsilon = 0.016\n",
      "epoch #344\tmean reward = 126.490\tepsilon = 0.016\n",
      "epoch #345\tmean reward = 130.100\tepsilon = 0.016\n",
      "epoch #346\tmean reward = 122.700\tepsilon = 0.015\n",
      "epoch #347\tmean reward = 118.100\tepsilon = 0.015\n",
      "epoch #348\tmean reward = 121.720\tepsilon = 0.015\n",
      "epoch #349\tmean reward = 139.160\tepsilon = 0.015\n",
      "epoch #350\tmean reward = 117.950\tepsilon = 0.015\n",
      "epoch #351\tmean reward = 92.380\tepsilon = 0.015\n",
      "epoch #352\tmean reward = 92.610\tepsilon = 0.015\n",
      "epoch #353\tmean reward = 96.000\tepsilon = 0.014\n",
      "epoch #354\tmean reward = 114.300\tepsilon = 0.014\n",
      "epoch #355\tmean reward = 124.020\tepsilon = 0.014\n",
      "epoch #356\tmean reward = 94.440\tepsilon = 0.014\n",
      "epoch #357\tmean reward = 95.670\tepsilon = 0.014\n",
      "epoch #358\tmean reward = 133.560\tepsilon = 0.014\n",
      "epoch #359\tmean reward = 110.120\tepsilon = 0.014\n",
      "epoch #360\tmean reward = 87.510\tepsilon = 0.013\n",
      "epoch #361\tmean reward = 75.500\tepsilon = 0.013\n",
      "epoch #362\tmean reward = 106.140\tepsilon = 0.013\n",
      "epoch #363\tmean reward = 176.950\tepsilon = 0.013\n",
      "epoch #364\tmean reward = 135.990\tepsilon = 0.013\n",
      "epoch #365\tmean reward = 125.890\tepsilon = 0.013\n",
      "epoch #366\tmean reward = 153.120\tepsilon = 0.013\n",
      "epoch #367\tmean reward = 21.570\tepsilon = 0.013\n",
      "epoch #368\tmean reward = 132.700\tepsilon = 0.012\n",
      "epoch #369\tmean reward = 146.430\tepsilon = 0.012\n",
      "epoch #370\tmean reward = 173.540\tepsilon = 0.012\n",
      "epoch #371\tmean reward = 131.410\tepsilon = 0.012\n",
      "epoch #372\tmean reward = 126.710\tepsilon = 0.012\n",
      "epoch #373\tmean reward = 224.010\tepsilon = 0.012\n",
      "epoch #374\tmean reward = 169.240\tepsilon = 0.012\n",
      "epoch #375\tmean reward = 121.890\tepsilon = 0.012\n",
      "epoch #376\tmean reward = 110.030\tepsilon = 0.011\n",
      "epoch #377\tmean reward = 110.990\tepsilon = 0.011\n",
      "epoch #378\tmean reward = 126.670\tepsilon = 0.011\n",
      "epoch #379\tmean reward = 139.730\tepsilon = 0.011\n",
      "epoch #380\tmean reward = 119.720\tepsilon = 0.011\n",
      "epoch #381\tmean reward = 64.130\tepsilon = 0.011\n",
      "epoch #382\tmean reward = 99.840\tepsilon = 0.011\n",
      "epoch #383\tmean reward = 29.400\tepsilon = 0.011\n",
      "epoch #384\tmean reward = 10.010\tepsilon = 0.011\n",
      "epoch #385\tmean reward = 22.970\tepsilon = 0.010\n",
      "epoch #386\tmean reward = 178.810\tepsilon = 0.010\n",
      "epoch #387\tmean reward = 179.110\tepsilon = 0.010\n",
      "epoch #388\tmean reward = 130.540\tepsilon = 0.010\n",
      "epoch #389\tmean reward = 143.690\tepsilon = 0.010\n",
      "epoch #390\tmean reward = 197.750\tepsilon = 0.010\n",
      "epoch #391\tmean reward = 42.080\tepsilon = 0.010\n",
      "epoch #392\tmean reward = 267.410\tepsilon = 0.010\n",
      "epoch #393\tmean reward = 245.360\tepsilon = 0.010\n",
      "epoch #394\tmean reward = 356.630\tepsilon = 0.010\n",
      "You Win!\n"
     ]
    }
   ],
   "source": [
    "for i in range(1000):\n",
    "    session_rewards = [generate_session(epsilon=epsilon, train=True) for _ in range(100)]\n",
    "    print(\"epoch #{}\\tmean reward = {:.3f}\\tepsilon = {:.3f}\".format(i, np.mean(session_rewards), epsilon))\n",
    "    \n",
    "    epsilon *= 0.99\n",
    "    assert epsilon >= 1e-4, \"Make sure epsilon is always nonzero during training\"\n",
    "    \n",
    "    if np.mean(session_rewards) > 300:\n",
    "        print (\"You Win!\")\n",
    "        break\n"
   ]
  },
  {
   "cell_type": "markdown",
   "metadata": {},
   "source": [
    "### How to interpret results\n",
    "\n",
    "\n",
    "Welcome to the f.. world of deep f...n reinforcement learning. Don't expect agent's reward to smoothly go up. Hope for it to go increase eventually. If it deems you worthy.\n",
    "\n",
    "Seriously though,\n",
    "* __ mean reward__ is the average reward per game. For a correct implementation it may stay low for some 10 epochs, then start growing while oscilating insanely and converges by ~50-100 steps depending on the network architecture. \n",
    "* If it never reaches target score by the end of for loop, try increasing the number of hidden neurons or look at the epsilon.\n",
    "* __ epsilon__ - agent's willingness to explore. If you see that agent's already at < 0.01 epsilon before it's is at least 200, just reset it back to 0.1 - 0.5."
   ]
  },
  {
   "cell_type": "markdown",
   "metadata": {},
   "source": [
    "### Record videos\n",
    "\n",
    "As usual, we now use `gym.wrappers.Monitor` to record a video of our agent playing the game. Unlike our previous attempts with state binarization, this time we expect our agent to act ~~(or fail)~~ more smoothly since there's no more binarization error at play.\n",
    "\n",
    "As you already did with tabular q-learning, we set epsilon=0 for final evaluation to prevent agent from exploring himself to death."
   ]
  },
  {
   "cell_type": "code",
   "execution_count": 19,
   "metadata": {
    "scrolled": true
   },
   "outputs": [],
   "source": [
    "#record sessions\n",
    "import gym.wrappers\n",
    "env = gym.wrappers.Monitor(gym.make(\"CartPole-v0\"),directory=\"videos\",force=True)\n",
    "sessions = [generate_session(epsilon=0, train=False) for _ in range(100)]\n",
    "env.close()\n"
   ]
  },
  {
   "cell_type": "code",
   "execution_count": 20,
   "metadata": {},
   "outputs": [
    {
     "data": {
      "text/html": [
       "\n",
       "<video width=\"640\" height=\"480\" controls>\n",
       "  <source src=\"./videos/openaigym.video.0.52430.video000000.mp4\" type=\"video/mp4\">\n",
       "</video>\n"
      ],
      "text/plain": [
       "<IPython.core.display.HTML object>"
      ]
     },
     "execution_count": 20,
     "metadata": {},
     "output_type": "execute_result"
    }
   ],
   "source": [
    "#show video\n",
    "from IPython.display import HTML\n",
    "import os\n",
    "\n",
    "video_names = list(filter(lambda s:s.endswith(\".mp4\"),os.listdir(\"./videos/\")))\n",
    "\n",
    "HTML(\"\"\"\n",
    "<video width=\"640\" height=\"480\" controls>\n",
    "  <source src=\"{}\" type=\"video/mp4\">\n",
    "</video>\n",
    "\"\"\".format(\"./videos/\"+video_names[-1])) #this may or may not be _last_ video. Try other indices"
   ]
  },
  {
   "cell_type": "markdown",
   "metadata": {},
   "source": [
    "---"
   ]
  },
  {
   "cell_type": "markdown",
   "metadata": {
    "collapsed": true
   },
   "source": [
    "### Submit to coursera"
   ]
  },
  {
   "cell_type": "code",
   "execution_count": 27,
   "metadata": {},
   "outputs": [
    {
     "name": "stdout",
     "output_type": "stream",
     "text": [
      "Submitted to Coursera platform. See results on assignment page!\n"
     ]
    }
   ],
   "source": [
    "from submit import submit_cartpole\n",
    "submit_cartpole(generate_session, <EMAIL>, <TOKEN>)"
   ]
  },
  {
   "cell_type": "code",
   "execution_count": null,
   "metadata": {},
   "outputs": [],
   "source": []
  }
 ],
 "metadata": {
  "anaconda-cloud": {},
  "kernelspec": {
   "display_name": "Python 3",
   "language": "python",
   "name": "python3"
  },
  "language_info": {
   "codemirror_mode": {
    "name": "ipython",
    "version": 3
   },
   "file_extension": ".py",
   "mimetype": "text/x-python",
   "name": "python",
   "nbconvert_exporter": "python",
   "pygments_lexer": "ipython3",
   "version": "3.6.5"
  }
 },
 "nbformat": 4,
 "nbformat_minor": 1
}
